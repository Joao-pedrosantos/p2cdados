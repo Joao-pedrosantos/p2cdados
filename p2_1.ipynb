{
 "cells": [
  {
   "cell_type": "code",
   "execution_count": 15,
   "id": "702ae72a",
   "metadata": {},
   "outputs": [],
   "source": [
    "%matplotlib inline\n",
    "import pandas as pd\n",
    "import matplotlib.pyplot as plt\n",
    "import numpy as np\n",
    "import os\n",
    "import re \n",
    "import nltk\n",
    "import string\n",
    "from nltk.corpus import stopwords\n",
    "#nltk.download('stopwords')\n",
    "\n",
    "\n",
    "pd.set_option(\"display.max_colwidth\", None)"
   ]
  },
  {
   "cell_type": "code",
   "execution_count": 30,
   "id": "357331da",
   "metadata": {},
   "outputs": [],
   "source": [
    "# PARA ROTACIONAR GRÁFICO 3D\n",
    "%matplotlib notebook\n",
    "\n",
    "import pandas as pd\n",
    "import numpy as np\n",
    "from scipy.stats import norm, probplot\n",
    "import statsmodels.api as sm\n",
    "import matplotlib.pyplot as plt\n",
    "\n",
    "from mpl_toolkits.mplot3d import Axes3D\n",
    "\n",
    "# Para ter melhor print\n",
    "from IPython.display import display"
   ]
  },
  {
   "cell_type": "code",
   "execution_count": 2,
   "id": "5592b6c7",
   "metadata": {},
   "outputs": [
    {
     "name": "stdout",
     "output_type": "stream",
     "text": [
      "Esperamos trabalhar no diretório\n",
      "C:\\Users\\jpthe\\Documents\\Ciencia de Dados\\CD21-2-main\\Projeto 2\\p2cdados\n"
     ]
    }
   ],
   "source": [
    "print('Esperamos trabalhar no diretório')\n",
    "print(os.getcwd())"
   ]
  },
  {
   "cell_type": "code",
   "execution_count": 17,
   "id": "488d7da4",
   "metadata": {},
   "outputs": [],
   "source": [
    "### Função utilitária para fazer a regressão com constante adicionada\n",
    "\n",
    "def regress(Y,X):\n",
    "    '''\n",
    "    Y: coluna do DataFrame utilizada como variável resposta (TARGET)\n",
    "    X: coluna(s) do DataFrame utilizadas como variável(is) explicativas (FEATURES)\n",
    "    '''\n",
    "    X_cp = sm.add_constant(X)\n",
    "    model = sm.OLS(Y,X_cp)\n",
    "    results = model.fit()\n",
    "    \n",
    "    return results"
   ]
  },
  {
   "cell_type": "code",
   "execution_count": 22,
   "id": "83f8023d",
   "metadata": {},
   "outputs": [],
   "source": [
    "filename = 'Housing.xlsx'\n",
    "teste = pd.read_excel(filename)\n",
    "teste.head()\n",
    "data = pd.read_csv(\"housing.csv\")"
   ]
  },
  {
   "cell_type": "code",
   "execution_count": 63,
   "id": "e63d999e",
   "metadata": {},
   "outputs": [
    {
     "data": {
      "text/html": [
       "<div>\n",
       "<style scoped>\n",
       "    .dataframe tbody tr th:only-of-type {\n",
       "        vertical-align: middle;\n",
       "    }\n",
       "\n",
       "    .dataframe tbody tr th {\n",
       "        vertical-align: top;\n",
       "    }\n",
       "\n",
       "    .dataframe thead th {\n",
       "        text-align: right;\n",
       "    }\n",
       "</style>\n",
       "<table border=\"1\" class=\"dataframe\">\n",
       "  <thead>\n",
       "    <tr style=\"text-align: right;\">\n",
       "      <th></th>\n",
       "      <th>longitude</th>\n",
       "      <th>latitude</th>\n",
       "      <th>housing_median_age</th>\n",
       "      <th>total_rooms</th>\n",
       "      <th>total_bedrooms</th>\n",
       "      <th>population</th>\n",
       "      <th>households</th>\n",
       "      <th>median_income</th>\n",
       "      <th>median_house_value</th>\n",
       "      <th>ocean_proximity</th>\n",
       "    </tr>\n",
       "  </thead>\n",
       "  <tbody>\n",
       "    <tr>\n",
       "      <th>0</th>\n",
       "      <td>-122.23</td>\n",
       "      <td>37.88</td>\n",
       "      <td>41.0</td>\n",
       "      <td>880.0</td>\n",
       "      <td>129.0</td>\n",
       "      <td>322.0</td>\n",
       "      <td>126.0</td>\n",
       "      <td>8.3252</td>\n",
       "      <td>452600.0</td>\n",
       "      <td>NEAR BAY</td>\n",
       "    </tr>\n",
       "    <tr>\n",
       "      <th>1</th>\n",
       "      <td>-122.22</td>\n",
       "      <td>37.86</td>\n",
       "      <td>21.0</td>\n",
       "      <td>7099.0</td>\n",
       "      <td>1106.0</td>\n",
       "      <td>2401.0</td>\n",
       "      <td>1138.0</td>\n",
       "      <td>8.3014</td>\n",
       "      <td>358500.0</td>\n",
       "      <td>NEAR BAY</td>\n",
       "    </tr>\n",
       "    <tr>\n",
       "      <th>2</th>\n",
       "      <td>-122.24</td>\n",
       "      <td>37.85</td>\n",
       "      <td>52.0</td>\n",
       "      <td>1467.0</td>\n",
       "      <td>190.0</td>\n",
       "      <td>496.0</td>\n",
       "      <td>177.0</td>\n",
       "      <td>7.2574</td>\n",
       "      <td>352100.0</td>\n",
       "      <td>NEAR BAY</td>\n",
       "    </tr>\n",
       "    <tr>\n",
       "      <th>3</th>\n",
       "      <td>-122.25</td>\n",
       "      <td>37.85</td>\n",
       "      <td>52.0</td>\n",
       "      <td>1274.0</td>\n",
       "      <td>235.0</td>\n",
       "      <td>558.0</td>\n",
       "      <td>219.0</td>\n",
       "      <td>5.6431</td>\n",
       "      <td>341300.0</td>\n",
       "      <td>NEAR BAY</td>\n",
       "    </tr>\n",
       "    <tr>\n",
       "      <th>4</th>\n",
       "      <td>-122.25</td>\n",
       "      <td>37.85</td>\n",
       "      <td>52.0</td>\n",
       "      <td>1627.0</td>\n",
       "      <td>280.0</td>\n",
       "      <td>565.0</td>\n",
       "      <td>259.0</td>\n",
       "      <td>3.8462</td>\n",
       "      <td>342200.0</td>\n",
       "      <td>NEAR BAY</td>\n",
       "    </tr>\n",
       "  </tbody>\n",
       "</table>\n",
       "</div>"
      ],
      "text/plain": [
       "   longitude  latitude  housing_median_age  total_rooms  total_bedrooms  \\\n",
       "0    -122.23     37.88                41.0        880.0           129.0   \n",
       "1    -122.22     37.86                21.0       7099.0          1106.0   \n",
       "2    -122.24     37.85                52.0       1467.0           190.0   \n",
       "3    -122.25     37.85                52.0       1274.0           235.0   \n",
       "4    -122.25     37.85                52.0       1627.0           280.0   \n",
       "\n",
       "   population  households  median_income  median_house_value ocean_proximity  \n",
       "0       322.0       126.0         8.3252            452600.0        NEAR BAY  \n",
       "1      2401.0      1138.0         8.3014            358500.0        NEAR BAY  \n",
       "2       496.0       177.0         7.2574            352100.0        NEAR BAY  \n",
       "3       558.0       219.0         5.6431            341300.0        NEAR BAY  \n",
       "4       565.0       259.0         3.8462            342200.0        NEAR BAY  "
      ]
     },
     "execution_count": 63,
     "metadata": {},
     "output_type": "execute_result"
    }
   ],
   "source": [
    "data.head(5)"
   ]
  },
  {
   "cell_type": "code",
   "execution_count": 76,
   "id": "6ea25458",
   "metadata": {},
   "outputs": [
    {
     "data": {
      "text/plain": [
       "longitude               0\n",
       "latitude                0\n",
       "housing_median_age      0\n",
       "total_rooms             0\n",
       "total_bedrooms        207\n",
       "population              0\n",
       "households              0\n",
       "median_income           0\n",
       "median_house_value      0\n",
       "ocean_proximity         0\n",
       "dtype: int64"
      ]
     },
     "execution_count": 76,
     "metadata": {},
     "output_type": "execute_result"
    }
   ],
   "source": [
    "filtra_linhas_0 = data['total_bedrooms'] != 0\n",
    "datan = data.loc[filtra_linhas_0, :]\n",
    "df = datan[['longitude', 'latitude', 'housing_median_age', 'total_rooms', \n",
    "            'population', 'households', 'median_income', 'median_house_value', 'ocean_proximity']]"
   ]
  },
  {
   "cell_type": "code",
   "execution_count": 77,
   "id": "6280b0f4",
   "metadata": {},
   "outputs": [],
   "source": [
    "X = df[['longitude', 'latitude', 'housing_median_age', 'total_rooms', 'population', 'households', 'median_income']]\n",
    "Y = df['median_house_value']\n"
   ]
  },
  {
   "cell_type": "code",
   "execution_count": 78,
   "id": "177c06bd",
   "metadata": {},
   "outputs": [
    {
     "data": {
      "text/html": [
       "<table class=\"simpletable\">\n",
       "<caption>OLS Regression Results</caption>\n",
       "<tr>\n",
       "  <th>Dep. Variable:</th>    <td>median_house_value</td> <th>  R-squared:         </th>  <td>   0.632</td>  \n",
       "</tr>\n",
       "<tr>\n",
       "  <th>Model:</th>                    <td>OLS</td>        <th>  Adj. R-squared:    </th>  <td>   0.632</td>  \n",
       "</tr>\n",
       "<tr>\n",
       "  <th>Method:</th>              <td>Least Squares</td>   <th>  F-statistic:       </th>  <td>   5070.</td>  \n",
       "</tr>\n",
       "<tr>\n",
       "  <th>Date:</th>              <td>Tue, 23 Nov 2021</td>  <th>  Prob (F-statistic):</th>   <td>  0.00</td>   \n",
       "</tr>\n",
       "<tr>\n",
       "  <th>Time:</th>                  <td>16:02:03</td>      <th>  Log-Likelihood:    </th> <td>-2.5954e+05</td>\n",
       "</tr>\n",
       "<tr>\n",
       "  <th>No. Observations:</th>       <td> 20640</td>       <th>  AIC:               </th>  <td>5.191e+05</td> \n",
       "</tr>\n",
       "<tr>\n",
       "  <th>Df Residuals:</th>           <td> 20632</td>       <th>  BIC:               </th>  <td>5.192e+05</td> \n",
       "</tr>\n",
       "<tr>\n",
       "  <th>Df Model:</th>               <td>     7</td>       <th>                     </th>      <td> </td>     \n",
       "</tr>\n",
       "<tr>\n",
       "  <th>Covariance Type:</th>       <td>nonrobust</td>     <th>                     </th>      <td> </td>     \n",
       "</tr>\n",
       "</table>\n",
       "<table class=\"simpletable\">\n",
       "<tr>\n",
       "           <td></td>             <th>coef</th>     <th>std err</th>      <th>t</th>      <th>P>|t|</th>  <th>[0.025</th>    <th>0.975]</th>  \n",
       "</tr>\n",
       "<tr>\n",
       "  <th>const</th>              <td>-3.506e+06</td> <td> 6.27e+04</td> <td>  -55.905</td> <td> 0.000</td> <td>-3.63e+06</td> <td>-3.38e+06</td>\n",
       "</tr>\n",
       "<tr>\n",
       "  <th>longitude</th>          <td>-4.207e+04</td> <td>  716.169</td> <td>  -58.748</td> <td> 0.000</td> <td>-4.35e+04</td> <td>-4.07e+04</td>\n",
       "</tr>\n",
       "<tr>\n",
       "  <th>latitude</th>           <td>-4.229e+04</td> <td>  677.404</td> <td>  -62.429</td> <td> 0.000</td> <td>-4.36e+04</td> <td> -4.1e+04</td>\n",
       "</tr>\n",
       "<tr>\n",
       "  <th>housing_median_age</th> <td> 1125.2551</td> <td>   43.406</td> <td>   25.924</td> <td> 0.000</td> <td> 1040.176</td> <td> 1210.334</td>\n",
       "</tr>\n",
       "<tr>\n",
       "  <th>total_rooms</th>        <td>   -1.7719</td> <td>    0.689</td> <td>   -2.571</td> <td> 0.010</td> <td>   -3.123</td> <td>   -0.421</td>\n",
       "</tr>\n",
       "<tr>\n",
       "  <th>population</th>         <td>  -43.2018</td> <td>    1.048</td> <td>  -41.238</td> <td> 0.000</td> <td>  -45.255</td> <td>  -41.148</td>\n",
       "</tr>\n",
       "<tr>\n",
       "  <th>households</th>         <td>  149.3997</td> <td>    4.343</td> <td>   34.399</td> <td> 0.000</td> <td>  140.887</td> <td>  157.913</td>\n",
       "</tr>\n",
       "<tr>\n",
       "  <th>median_income</th>      <td> 3.835e+04</td> <td>  316.526</td> <td>  121.155</td> <td> 0.000</td> <td> 3.77e+04</td> <td>  3.9e+04</td>\n",
       "</tr>\n",
       "</table>\n",
       "<table class=\"simpletable\">\n",
       "<tr>\n",
       "  <th>Omnibus:</th>       <td>5305.354</td> <th>  Durbin-Watson:     </th> <td>   0.940</td> \n",
       "</tr>\n",
       "<tr>\n",
       "  <th>Prob(Omnibus):</th>  <td> 0.000</td>  <th>  Jarque-Bera (JB):  </th> <td>20635.943</td>\n",
       "</tr>\n",
       "<tr>\n",
       "  <th>Skew:</th>           <td> 1.237</td>  <th>  Prob(JB):          </th> <td>    0.00</td> \n",
       "</tr>\n",
       "<tr>\n",
       "  <th>Kurtosis:</th>       <td> 7.227</td>  <th>  Cond. No.          </th> <td>5.01e+05</td> \n",
       "</tr>\n",
       "</table><br/><br/>Notes:<br/>[1] Standard Errors assume that the covariance matrix of the errors is correctly specified.<br/>[2] The condition number is large, 5.01e+05. This might indicate that there are<br/>strong multicollinearity or other numerical problems."
      ],
      "text/plain": [
       "<class 'statsmodels.iolib.summary.Summary'>\n",
       "\"\"\"\n",
       "                            OLS Regression Results                            \n",
       "==============================================================================\n",
       "Dep. Variable:     median_house_value   R-squared:                       0.632\n",
       "Model:                            OLS   Adj. R-squared:                  0.632\n",
       "Method:                 Least Squares   F-statistic:                     5070.\n",
       "Date:                Tue, 23 Nov 2021   Prob (F-statistic):               0.00\n",
       "Time:                        16:02:03   Log-Likelihood:            -2.5954e+05\n",
       "No. Observations:               20640   AIC:                         5.191e+05\n",
       "Df Residuals:                   20632   BIC:                         5.192e+05\n",
       "Df Model:                           7                                         \n",
       "Covariance Type:            nonrobust                                         \n",
       "======================================================================================\n",
       "                         coef    std err          t      P>|t|      [0.025      0.975]\n",
       "--------------------------------------------------------------------------------------\n",
       "const              -3.506e+06   6.27e+04    -55.905      0.000   -3.63e+06   -3.38e+06\n",
       "longitude          -4.207e+04    716.169    -58.748      0.000   -4.35e+04   -4.07e+04\n",
       "latitude           -4.229e+04    677.404    -62.429      0.000   -4.36e+04    -4.1e+04\n",
       "housing_median_age  1125.2551     43.406     25.924      0.000    1040.176    1210.334\n",
       "total_rooms           -1.7719      0.689     -2.571      0.010      -3.123      -0.421\n",
       "population           -43.2018      1.048    -41.238      0.000     -45.255     -41.148\n",
       "households           149.3997      4.343     34.399      0.000     140.887     157.913\n",
       "median_income       3.835e+04    316.526    121.155      0.000    3.77e+04     3.9e+04\n",
       "==============================================================================\n",
       "Omnibus:                     5305.354   Durbin-Watson:                   0.940\n",
       "Prob(Omnibus):                  0.000   Jarque-Bera (JB):            20635.943\n",
       "Skew:                           1.237   Prob(JB):                         0.00\n",
       "Kurtosis:                       7.227   Cond. No.                     5.01e+05\n",
       "==============================================================================\n",
       "\n",
       "Notes:\n",
       "[1] Standard Errors assume that the covariance matrix of the errors is correctly specified.\n",
       "[2] The condition number is large, 5.01e+05. This might indicate that there are\n",
       "strong multicollinearity or other numerical problems.\n",
       "\"\"\""
      ]
     },
     "execution_count": 78,
     "metadata": {},
     "output_type": "execute_result"
    }
   ],
   "source": [
    "results = regress(Y,X)\n",
    "results.summary()"
   ]
  },
  {
   "cell_type": "code",
   "execution_count": 44,
   "id": "b145f1a1",
   "metadata": {},
   "outputs": [
    {
     "data": {
      "text/plain": [
       "longitude             0.0\n",
       "latitude              0.0\n",
       "housing_median_age    0.0\n",
       "total_rooms           0.0\n",
       "total_bedrooms        0.0\n",
       "population            0.0\n",
       "households            0.0\n",
       "median_income         0.0\n",
       "median_house_value    0.0\n",
       "ocean_proximity       0.0\n",
       "dtype: float64"
      ]
     },
     "execution_count": 44,
     "metadata": {},
     "output_type": "execute_result"
    }
   ],
   "source": []
  },
  {
   "cell_type": "code",
   "execution_count": null,
   "id": "bb0e6073",
   "metadata": {},
   "outputs": [],
   "source": []
  },
  {
   "cell_type": "code",
   "execution_count": null,
   "id": "032b2b56",
   "metadata": {},
   "outputs": [],
   "source": []
  },
  {
   "cell_type": "code",
   "execution_count": null,
   "id": "d666b5ec",
   "metadata": {},
   "outputs": [],
   "source": []
  },
  {
   "cell_type": "code",
   "execution_count": null,
   "id": "d2ce2f9c",
   "metadata": {},
   "outputs": [],
   "source": []
  },
  {
   "cell_type": "code",
   "execution_count": 16,
   "id": "af74e28e",
   "metadata": {},
   "outputs": [],
   "source": [
    "# Importando as bibiliotecas necessárias\n",
    "from sklearn.linear_model import Lasso\n",
    "from sklearn.model_selection import train_test_split\n",
    "from sklearn.metrics import mean_squared_error"
   ]
  },
  {
   "cell_type": "code",
   "execution_count": null,
   "id": "e8597b50",
   "metadata": {},
   "outputs": [],
   "source": [
    "# Definindo nossa coluna de interesse \"finalG\" e separando ela do DF a ser analisado pelo modelo\n",
    "labels = np.array(data['preço'])\n",
    "data = data.drop('preço', axis = 1)\n",
    "\n",
    "# Fazendo uma lista com as colunas do DF\n",
    "data_list = list(data.columns)"
   ]
  },
  {
   "cell_type": "code",
   "execution_count": null,
   "id": "9e2a75d0",
   "metadata": {},
   "outputs": [],
   "source": [
    "# Importando bibliote do RandomForest\n",
    "from sklearn.ensemble import RandomForestRegressor\n",
    "\n",
    "# Criando modelo\n",
    "rf = RandomForestRegressor(n_estimators = 1000, random_state = 42)\n",
    "rf.fit(train_data, train_labels)\n",
    "\n",
    "# Criando previsões\n",
    "predictions_rf = rf.predict(test_data)"
   ]
  }
 ],
 "metadata": {
  "kernelspec": {
   "display_name": "Python 3",
   "language": "python",
   "name": "python3"
  },
  "language_info": {
   "codemirror_mode": {
    "name": "ipython",
    "version": 3
   },
   "file_extension": ".py",
   "mimetype": "text/x-python",
   "name": "python",
   "nbconvert_exporter": "python",
   "pygments_lexer": "ipython3",
   "version": "3.8.8"
  }
 },
 "nbformat": 4,
 "nbformat_minor": 5
}
